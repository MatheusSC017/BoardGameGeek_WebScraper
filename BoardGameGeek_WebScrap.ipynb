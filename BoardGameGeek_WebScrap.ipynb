{
  "nbformat": 4,
  "nbformat_minor": 0,
  "metadata": {
    "colab": {
      "name": "BoardGameGeek_WebScrap.ipynb",
      "provenance": [],
      "collapsed_sections": [
        "AcRrv1ocWPP9"
      ],
      "authorship_tag": "ABX9TyMa/S6Pfxk9lcjNWMtjgi+f",
      "include_colab_link": true
    },
    "kernelspec": {
      "name": "python3",
      "display_name": "Python 3"
    },
    "language_info": {
      "name": "python"
    }
  },
  "cells": [
    {
      "cell_type": "markdown",
      "metadata": {
        "id": "view-in-github",
        "colab_type": "text"
      },
      "source": [
        "<a href=\"https://colab.research.google.com/github/MatheusSC017/BoardGameGeek_WebScraper/blob/main/BoardGameGeek_WebScrap.ipynb\" target=\"_parent\"><img src=\"https://colab.research.google.com/assets/colab-badge.svg\" alt=\"Open In Colab\"/></a>"
      ]
    },
    {
      "cell_type": "code",
      "execution_count": 38,
      "metadata": {
        "id": "2jspRIMbpQeD"
      },
      "outputs": [],
      "source": [
        "from bs4 import BeautifulSoup\n",
        "from openpyxl import Workbook\n",
        "from tqdm import tqdm\n",
        "from time import sleep\n",
        "import pandas as pd\n",
        "import requests\n",
        "import json\n",
        "import re"
      ]
    },
    {
      "cell_type": "markdown",
      "source": [
        "# Getting ranking of Board Games"
      ],
      "metadata": {
        "id": "AcRrv1ocWPP9"
      }
    },
    {
      "cell_type": "code",
      "source": [
        "def get_table_data(url):\n",
        "    response = requests.get(url)\n",
        "\n",
        "    if response.status_code != 200:\n",
        "        raise HTTPError()\n",
        "\n",
        "    html = BeautifulSoup(response.text, 'html.parser')\n",
        "\n",
        "    table = html.find(id='collectionitems').find_all('tr')\n",
        "    head = table[0]\n",
        "    data = table[1:]\n",
        "\n",
        "    return data, head"
      ],
      "metadata": {
        "id": "hEyBlUlqj57j"
      },
      "execution_count": null,
      "outputs": []
    },
    {
      "cell_type": "code",
      "source": [
        "def get_columns(head):\n",
        "    fields = head.find_all('th')\n",
        "    columns = [field.text.strip() for field in fields]\n",
        "    return columns"
      ],
      "metadata": {
        "id": "6lkUwEe7m6no"
      },
      "execution_count": null,
      "outputs": []
    },
    {
      "cell_type": "code",
      "source": [
        "def get_value(line):\n",
        "    fields = line.find_all('td')\n",
        "    values = [re.sub('[\\n,\\t]', ' ', field.text.strip()) for field in fields]\n",
        "    return values"
      ],
      "metadata": {
        "id": "kX0DnlqpqSBQ"
      },
      "execution_count": null,
      "outputs": []
    },
    {
      "cell_type": "code",
      "source": [
        "def save_dataframe(dataframe):\n",
        "    wb = Workbook()\n",
        "\n",
        "    ws = wb.active\n",
        "    ws.title = 'BoardGameList'\n",
        "\n",
        "    ws.append(list(dataframe.columns))\n",
        "    for line in dataframe.values:\n",
        "        ws.append(list(line))\n",
        "\n",
        "    wb.save('GeekGames.xlsx')"
      ],
      "metadata": {
        "id": "Qkxnlq8kx7OR"
      },
      "execution_count": null,
      "outputs": []
    },
    {
      "cell_type": "code",
      "source": [
        "geek_games_data = None\n",
        "columns = None\n",
        "i = 1\n",
        "while True:\n",
        "    try: \n",
        "        url = f'https://boardgamegeek.com/browse/boardgame/page/{i}'\n",
        "        i += 1\n",
        "        data, head = get_table_data(url)\n",
        "        if columns is None:\n",
        "            columns = get_columns(head)\n",
        "            geek_games_data = pd.DataFrame(columns=columns)\n",
        "    except:\n",
        "        break\n",
        "    for game in data:\n",
        "        fields = game.find_all('td')\n",
        "        values = [re.sub('[\\n,\\t]', ' ', field.text.strip()) for field in fields]\n",
        "        if len(values) == 7:\n",
        "            geek_games_data = geek_games_data.append(\n",
        "                pd.Series(values, index=columns),\n",
        "                ignore_index=True\n",
        "            )\n",
        "    sleep(10)\n",
        "geek_games_data.drop('Shop', axis=1)\n",
        "save_dataframe(geek_games_data)"
      ],
      "metadata": {
        "id": "TEd-fyvVoJfL"
      },
      "execution_count": null,
      "outputs": []
    },
    {
      "cell_type": "code",
      "source": [
        "geek_games_data.shape"
      ],
      "metadata": {
        "colab": {
          "base_uri": "https://localhost:8080/"
        },
        "id": "5NESscSXrmA0",
        "outputId": "1c164227-9bbe-4c86-e6fa-9dbab85cac38"
      },
      "execution_count": null,
      "outputs": [
        {
          "output_type": "execute_result",
          "data": {
            "text/plain": [
              "(2000, 7)"
            ]
          },
          "metadata": {},
          "execution_count": 87
        }
      ]
    },
    {
      "cell_type": "code",
      "source": [
        "geek_games_data.head()"
      ],
      "metadata": {
        "colab": {
          "base_uri": "https://localhost:8080/",
          "height": 250
        },
        "id": "7Kb-Om-MrqVv",
        "outputId": "b5e04852-4a7a-42f9-e9be-68a7847dc96c"
      },
      "execution_count": null,
      "outputs": [
        {
          "output_type": "execute_result",
          "data": {
            "text/plain": [
              "  Board Game Rank Thumbnail image  \\\n",
              "0               1                   \n",
              "1               2                   \n",
              "2               3                   \n",
              "3               4                   \n",
              "4               5                   \n",
              "\n",
              "                                               Title Geek Rating Avg Rating  \\\n",
              "0  Gloomhaven (2017)      Vanquish monsters with ...       8.474       8.71   \n",
              "1  Brass: Birmingham (2018)      Build networks  ...       8.429       8.66   \n",
              "2  Pandemic Legacy: Season 1 (2015)      Mutating...       8.426       8.58   \n",
              "3  Gloomhaven: Jaws of the Lion (2020)      Vanqu...       8.258       8.60   \n",
              "4  Terraforming Mars (2016)      Compete with riv...       8.257       8.40   \n",
              "\n",
              "  Num Voters Shop  \n",
              "0      51616       \n",
              "1      29998       \n",
              "2      47341       \n",
              "3      21648       \n",
              "4      80817       "
            ],
            "text/html": [
              "\n",
              "  <div id=\"df-f8b9660c-a98d-4b93-99ee-d4c2f749978f\">\n",
              "    <div class=\"colab-df-container\">\n",
              "      <div>\n",
              "<style scoped>\n",
              "    .dataframe tbody tr th:only-of-type {\n",
              "        vertical-align: middle;\n",
              "    }\n",
              "\n",
              "    .dataframe tbody tr th {\n",
              "        vertical-align: top;\n",
              "    }\n",
              "\n",
              "    .dataframe thead th {\n",
              "        text-align: right;\n",
              "    }\n",
              "</style>\n",
              "<table border=\"1\" class=\"dataframe\">\n",
              "  <thead>\n",
              "    <tr style=\"text-align: right;\">\n",
              "      <th></th>\n",
              "      <th>Board Game Rank</th>\n",
              "      <th>Thumbnail image</th>\n",
              "      <th>Title</th>\n",
              "      <th>Geek Rating</th>\n",
              "      <th>Avg Rating</th>\n",
              "      <th>Num Voters</th>\n",
              "      <th>Shop</th>\n",
              "    </tr>\n",
              "  </thead>\n",
              "  <tbody>\n",
              "    <tr>\n",
              "      <th>0</th>\n",
              "      <td>1</td>\n",
              "      <td></td>\n",
              "      <td>Gloomhaven (2017)      Vanquish monsters with ...</td>\n",
              "      <td>8.474</td>\n",
              "      <td>8.71</td>\n",
              "      <td>51616</td>\n",
              "      <td></td>\n",
              "    </tr>\n",
              "    <tr>\n",
              "      <th>1</th>\n",
              "      <td>2</td>\n",
              "      <td></td>\n",
              "      <td>Brass: Birmingham (2018)      Build networks  ...</td>\n",
              "      <td>8.429</td>\n",
              "      <td>8.66</td>\n",
              "      <td>29998</td>\n",
              "      <td></td>\n",
              "    </tr>\n",
              "    <tr>\n",
              "      <th>2</th>\n",
              "      <td>3</td>\n",
              "      <td></td>\n",
              "      <td>Pandemic Legacy: Season 1 (2015)      Mutating...</td>\n",
              "      <td>8.426</td>\n",
              "      <td>8.58</td>\n",
              "      <td>47341</td>\n",
              "      <td></td>\n",
              "    </tr>\n",
              "    <tr>\n",
              "      <th>3</th>\n",
              "      <td>4</td>\n",
              "      <td></td>\n",
              "      <td>Gloomhaven: Jaws of the Lion (2020)      Vanqu...</td>\n",
              "      <td>8.258</td>\n",
              "      <td>8.60</td>\n",
              "      <td>21648</td>\n",
              "      <td></td>\n",
              "    </tr>\n",
              "    <tr>\n",
              "      <th>4</th>\n",
              "      <td>5</td>\n",
              "      <td></td>\n",
              "      <td>Terraforming Mars (2016)      Compete with riv...</td>\n",
              "      <td>8.257</td>\n",
              "      <td>8.40</td>\n",
              "      <td>80817</td>\n",
              "      <td></td>\n",
              "    </tr>\n",
              "  </tbody>\n",
              "</table>\n",
              "</div>\n",
              "      <button class=\"colab-df-convert\" onclick=\"convertToInteractive('df-f8b9660c-a98d-4b93-99ee-d4c2f749978f')\"\n",
              "              title=\"Convert this dataframe to an interactive table.\"\n",
              "              style=\"display:none;\">\n",
              "        \n",
              "  <svg xmlns=\"http://www.w3.org/2000/svg\" height=\"24px\"viewBox=\"0 0 24 24\"\n",
              "       width=\"24px\">\n",
              "    <path d=\"M0 0h24v24H0V0z\" fill=\"none\"/>\n",
              "    <path d=\"M18.56 5.44l.94 2.06.94-2.06 2.06-.94-2.06-.94-.94-2.06-.94 2.06-2.06.94zm-11 1L8.5 8.5l.94-2.06 2.06-.94-2.06-.94L8.5 2.5l-.94 2.06-2.06.94zm10 10l.94 2.06.94-2.06 2.06-.94-2.06-.94-.94-2.06-.94 2.06-2.06.94z\"/><path d=\"M17.41 7.96l-1.37-1.37c-.4-.4-.92-.59-1.43-.59-.52 0-1.04.2-1.43.59L10.3 9.45l-7.72 7.72c-.78.78-.78 2.05 0 2.83L4 21.41c.39.39.9.59 1.41.59.51 0 1.02-.2 1.41-.59l7.78-7.78 2.81-2.81c.8-.78.8-2.07 0-2.86zM5.41 20L4 18.59l7.72-7.72 1.47 1.35L5.41 20z\"/>\n",
              "  </svg>\n",
              "      </button>\n",
              "      \n",
              "  <style>\n",
              "    .colab-df-container {\n",
              "      display:flex;\n",
              "      flex-wrap:wrap;\n",
              "      gap: 12px;\n",
              "    }\n",
              "\n",
              "    .colab-df-convert {\n",
              "      background-color: #E8F0FE;\n",
              "      border: none;\n",
              "      border-radius: 50%;\n",
              "      cursor: pointer;\n",
              "      display: none;\n",
              "      fill: #1967D2;\n",
              "      height: 32px;\n",
              "      padding: 0 0 0 0;\n",
              "      width: 32px;\n",
              "    }\n",
              "\n",
              "    .colab-df-convert:hover {\n",
              "      background-color: #E2EBFA;\n",
              "      box-shadow: 0px 1px 2px rgba(60, 64, 67, 0.3), 0px 1px 3px 1px rgba(60, 64, 67, 0.15);\n",
              "      fill: #174EA6;\n",
              "    }\n",
              "\n",
              "    [theme=dark] .colab-df-convert {\n",
              "      background-color: #3B4455;\n",
              "      fill: #D2E3FC;\n",
              "    }\n",
              "\n",
              "    [theme=dark] .colab-df-convert:hover {\n",
              "      background-color: #434B5C;\n",
              "      box-shadow: 0px 1px 3px 1px rgba(0, 0, 0, 0.15);\n",
              "      filter: drop-shadow(0px 1px 2px rgba(0, 0, 0, 0.3));\n",
              "      fill: #FFFFFF;\n",
              "    }\n",
              "  </style>\n",
              "\n",
              "      <script>\n",
              "        const buttonEl =\n",
              "          document.querySelector('#df-f8b9660c-a98d-4b93-99ee-d4c2f749978f button.colab-df-convert');\n",
              "        buttonEl.style.display =\n",
              "          google.colab.kernel.accessAllowed ? 'block' : 'none';\n",
              "\n",
              "        async function convertToInteractive(key) {\n",
              "          const element = document.querySelector('#df-f8b9660c-a98d-4b93-99ee-d4c2f749978f');\n",
              "          const dataTable =\n",
              "            await google.colab.kernel.invokeFunction('convertToInteractive',\n",
              "                                                     [key], {});\n",
              "          if (!dataTable) return;\n",
              "\n",
              "          const docLinkHtml = 'Like what you see? Visit the ' +\n",
              "            '<a target=\"_blank\" href=https://colab.research.google.com/notebooks/data_table.ipynb>data table notebook</a>'\n",
              "            + ' to learn more about interactive tables.';\n",
              "          element.innerHTML = '';\n",
              "          dataTable['output_type'] = 'display_data';\n",
              "          await google.colab.output.renderOutput(dataTable, element);\n",
              "          const docLink = document.createElement('div');\n",
              "          docLink.innerHTML = docLinkHtml;\n",
              "          element.appendChild(docLink);\n",
              "        }\n",
              "      </script>\n",
              "    </div>\n",
              "  </div>\n",
              "  "
            ]
          },
          "metadata": {},
          "execution_count": 88
        }
      ]
    },
    {
      "cell_type": "markdown",
      "source": [
        "# Getting Game informations"
      ],
      "metadata": {
        "id": "wjacrPQ5WXDo"
      }
    },
    {
      "cell_type": "code",
      "source": [
        "response = requests.get('https://boardgamegeek.com/sitemapindex')\n",
        "lxml = BeautifulSoup(response.text, 'lxml')\n",
        "list_of_pages = lxml.find_all('loc')"
      ],
      "metadata": {
        "id": "msrI1XrlW76y"
      },
      "execution_count": 3,
      "outputs": []
    },
    {
      "cell_type": "code",
      "source": [
        "page_list = list()\n",
        "\n",
        "for list_of_page in tqdm(list_of_pages[:10]):\n",
        "    response = requests.get(list_of_page.text.strip())\n",
        "    lxml = BeautifulSoup(response.text, 'lxml')\n",
        "    page_list.extend([page.text.strip() for page in lxml.find_all('loc')])\n",
        "    \n",
        "    sleep(10)"
      ],
      "metadata": {
        "colab": {
          "base_uri": "https://localhost:8080/"
        },
        "id": "XWaXfHmxXuoD",
        "outputId": "244974d1-ebe5-4116-a793-140518bab2e1"
      },
      "execution_count": 4,
      "outputs": [
        {
          "output_type": "stream",
          "name": "stderr",
          "text": [
            "100%|██████████| 10/10 [02:02<00:00, 12.20s/it]\n"
          ]
        }
      ]
    },
    {
      "cell_type": "code",
      "source": [
        "print(f'Number of board games: {len(page_list)}')\n",
        "print(f'Link of the first game: {page_list[0]}')"
      ],
      "metadata": {
        "id": "KRCaCWUjZnbd",
        "colab": {
          "base_uri": "https://localhost:8080/"
        },
        "outputId": "87e26e7f-58f5-4837-8bb9-0d1ad163f8ff"
      },
      "execution_count": 7,
      "outputs": [
        {
          "output_type": "stream",
          "name": "stdout",
          "text": [
            "Number of board games: 100000\n",
            "Link of the first game: https://boardgamegeek.com/boardgame/1/die-macher\n"
          ]
        }
      ]
    },
    {
      "cell_type": "code",
      "source": [
        "response = requests.get(page_list[0])\n",
        "html = BeautifulSoup(response.text, 'html.parser')"
      ],
      "metadata": {
        "id": "mzPxSrPGF-fd"
      },
      "execution_count": 25,
      "outputs": []
    },
    {
      "cell_type": "code",
      "source": [
        "game_board = html.find('script', attrs={'type': 'application/ld+json'}).text\n",
        "game_board = json.loads(game_board)\n",
        "game_board"
      ],
      "metadata": {
        "colab": {
          "base_uri": "https://localhost:8080/"
        },
        "id": "5Sj7dytjJqp9",
        "outputId": "21161bda-9c46-43b7-9645-0f4dc7bf0c86"
      },
      "execution_count": 41,
      "outputs": [
        {
          "output_type": "execute_result",
          "data": {
            "text/plain": [
              "{'@context': 'http://schema.org',\n",
              " '@type': 'Product',\n",
              " 'aggregateRating': {'@type': 'AggregateRating',\n",
              "  'bestRating': '10',\n",
              "  'ratingValue': '7.60792',\n",
              "  'reviewCount': '5505',\n",
              "  'worstRating': '1'},\n",
              " 'description': 'Players represent political parties attempting to gain power in Germany.',\n",
              " 'image': 'https://cf.geekdo-images.com/rpwCZAjYLD940NWwP3SRoA__itemrep/img/66VYYgqwBJGOxsh_8sLaBYROeCU=/fit-in/246x300/filters:strip_icc()/pic4718279.jpg',\n",
              " 'name': 'Die Macher'}"
            ]
          },
          "metadata": {},
          "execution_count": 41
        }
      ]
    },
    {
      "cell_type": "code",
      "source": [
        "game_board['aggregateRating']['ratingValue']"
      ],
      "metadata": {
        "colab": {
          "base_uri": "https://localhost:8080/",
          "height": 35
        },
        "id": "gsP4167qN1bF",
        "outputId": "e164d9cf-8db9-4c62-ce6a-9a7b83b03c3c"
      },
      "execution_count": 43,
      "outputs": [
        {
          "output_type": "execute_result",
          "data": {
            "text/plain": [
              "'7.60792'"
            ],
            "application/vnd.google.colaboratory.intrinsic+json": {
              "type": "string"
            }
          },
          "metadata": {},
          "execution_count": 43
        }
      ]
    }
  ]
}